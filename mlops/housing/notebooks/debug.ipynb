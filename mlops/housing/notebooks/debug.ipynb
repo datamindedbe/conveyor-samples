{
 "cells": [
  {
   "cell_type": "markdown",
   "id": "7b1fd355-bb9d-4f46-87c5-07a2fd14fe9b",
   "metadata": {},
   "source": [
    "# Debugging our code"
   ]
  },
  {
   "cell_type": "markdown",
   "id": "89cdd370-3317-4ce6-a4b3-dca9a4a5c46d",
   "metadata": {},
   "source": [
    "In this notebook we show, how you can call and test your code directly from within a notebook."
   ]
  },
  {
   "cell_type": "code",
   "execution_count": 7,
   "id": "9b8cd40f-fdd0-4114-a33a-0db45d5bb135",
   "metadata": {},
   "outputs": [],
   "source": [
    "from housing.config import Config\n",
    "from housing.jobs import validate, prepare, train, evaluate\n",
    "\n",
    "import logging\n",
    "logger = logging.getLogger()\n",
    "logger.setLevel(logging.INFO)\n",
    "\n",
    "config = Config(asset=\"train\", date=\"2022-09-14\")"
   ]
  },
  {
   "cell_type": "markdown",
   "id": "4de80f5a-94df-42d5-991e-a41d1242eda4",
   "metadata": {},
   "source": [
    "## Validate data"
   ]
  },
  {
   "cell_type": "code",
   "execution_count": 8,
   "id": "207c45aa-1844-4ab0-9f29-a6bdf5aef977",
   "metadata": {},
   "outputs": [
    {
     "name": "stderr",
     "output_type": "stream",
     "text": [
      "INFO:root:Validating train dataset for date 2022-09-14...\n",
      "INFO:root:Using bucket titanic-samples-uflwdn\n",
      "INFO:root:Loading csv data from s3://titanic-samples-uflwdn/housing/raw/train.csv\n",
      "INFO:root:Using bucket titanic-samples-uflwdn\n",
      "INFO:root:Writing parquet data to s3://titanic-samples-uflwdn/housing/valid/date=2022-09-14/data.parquet\n",
      "INFO:root:Done validating.\n"
     ]
    }
   ],
   "source": [
    "validate.run(config)"
   ]
  },
  {
   "cell_type": "markdown",
   "id": "ff20f741-666c-4007-827b-5124824fbcd9",
   "metadata": {},
   "source": [
    "## Prepare data"
   ]
  },
  {
   "cell_type": "code",
   "execution_count": 9,
   "id": "71aa9308-a990-4d0d-8244-33a066cd3b48",
   "metadata": {},
   "outputs": [
    {
     "name": "stderr",
     "output_type": "stream",
     "text": [
      "INFO:root:Preparing features for dataset train for date 2022-09-14...\n",
      "INFO:root:Using bucket titanic-samples-uflwdn\n",
      "INFO:root:Loading parquet data from s3://titanic-samples-uflwdn/housing/valid/date=2022-09-14/data.parquet\n"
     ]
    },
    {
     "ename": "ValueError",
     "evalue": "data type <class 'numpy.object_'> not inexact",
     "output_type": "error",
     "traceback": [
      "\u001b[0;31m---------------------------------------------------------------------------\u001b[0m",
      "\u001b[0;31mValueError\u001b[0m                                Traceback (most recent call last)",
      "Cell \u001b[0;32mIn [9], line 1\u001b[0m\n\u001b[0;32m----> 1\u001b[0m \u001b[43mprepare\u001b[49m\u001b[38;5;241;43m.\u001b[39;49m\u001b[43mrun\u001b[49m\u001b[43m(\u001b[49m\u001b[43mconfig\u001b[49m\u001b[43m)\u001b[49m\n",
      "File \u001b[0;32m~/work/conveyor_project/src/housing/jobs/prepare.py:37\u001b[0m, in \u001b[0;36mrun\u001b[0;34m(config)\u001b[0m\n\u001b[1;32m     35\u001b[0m label_encode_categorical_values(features_df)\n\u001b[1;32m     36\u001b[0m features_df \u001b[38;5;241m=\u001b[39m convert_categorical_values_to_dummies(features_df)\n\u001b[0;32m---> 37\u001b[0m \u001b[43mcorrect_skewed_numerical_features\u001b[49m\u001b[43m(\u001b[49m\u001b[43mfeatures_df\u001b[49m\u001b[43m)\u001b[49m\n\u001b[1;32m     39\u001b[0m \u001b[38;5;28;01mif\u001b[39;00m config\u001b[38;5;241m.\u001b[39masset \u001b[38;5;241m==\u001b[39m \u001b[38;5;124m\"\u001b[39m\u001b[38;5;124mtrain\u001b[39m\u001b[38;5;124m\"\u001b[39m:\n\u001b[1;32m     40\u001b[0m     training_features, test_features \u001b[38;5;241m=\u001b[39m train_test_split(features_df, test_size\u001b[38;5;241m=\u001b[39m\u001b[38;5;241m0.2\u001b[39m)\n",
      "File \u001b[0;32m~/work/conveyor_project/src/housing/jobs/prepare.py:117\u001b[0m, in \u001b[0;36mcorrect_skewed_numerical_features\u001b[0;34m(df)\u001b[0m\n\u001b[1;32m    115\u001b[0m \u001b[38;5;28;01mdef\u001b[39;00m \u001b[38;5;21mcorrect_skewed_numerical_features\u001b[39m(df: pd\u001b[38;5;241m.\u001b[39mDataFrame):\n\u001b[1;32m    116\u001b[0m     numeric_feats \u001b[38;5;241m=\u001b[39m df\u001b[38;5;241m.\u001b[39mdtypes[df\u001b[38;5;241m.\u001b[39mdtypes \u001b[38;5;241m!=\u001b[39m \u001b[38;5;124m\"\u001b[39m\u001b[38;5;124mstring\u001b[39m\u001b[38;5;124m\"\u001b[39m]\u001b[38;5;241m.\u001b[39mindex\n\u001b[0;32m--> 117\u001b[0m     skewed_feats \u001b[38;5;241m=\u001b[39m \u001b[43mdf\u001b[49m\u001b[43m[\u001b[49m\u001b[43mnumeric_feats\u001b[49m\u001b[43m]\u001b[49m\u001b[38;5;241;43m.\u001b[39;49m\u001b[43mapply\u001b[49m\u001b[43m(\u001b[49m\u001b[38;5;28;43;01mlambda\u001b[39;49;00m\u001b[43m \u001b[49m\u001b[43mx\u001b[49m\u001b[43m:\u001b[49m\u001b[43m \u001b[49m\u001b[43mskew\u001b[49m\u001b[43m(\u001b[49m\u001b[43mx\u001b[49m\u001b[38;5;241;43m.\u001b[39;49m\u001b[43mdropna\u001b[49m\u001b[43m(\u001b[49m\u001b[43m)\u001b[49m\u001b[43m)\u001b[49m\u001b[43m)\u001b[49m\u001b[38;5;241m.\u001b[39msort_values(ascending\u001b[38;5;241m=\u001b[39m\u001b[38;5;28;01mFalse\u001b[39;00m)\n\u001b[1;32m    118\u001b[0m     skewness \u001b[38;5;241m=\u001b[39m pd\u001b[38;5;241m.\u001b[39mDataFrame({\u001b[38;5;124m'\u001b[39m\u001b[38;5;124mSkew\u001b[39m\u001b[38;5;124m'\u001b[39m: skewed_feats})\n\u001b[1;32m    119\u001b[0m     skewness \u001b[38;5;241m=\u001b[39m skewness[\u001b[38;5;28mabs\u001b[39m(skewness) \u001b[38;5;241m>\u001b[39m \u001b[38;5;241m0.75\u001b[39m]\n",
      "File \u001b[0;32m~/work/venv/lib/python3.9/site-packages/pandas/core/frame.py:8740\u001b[0m, in \u001b[0;36mDataFrame.apply\u001b[0;34m(self, func, axis, raw, result_type, args, **kwargs)\u001b[0m\n\u001b[1;32m   8729\u001b[0m \u001b[38;5;28;01mfrom\u001b[39;00m \u001b[38;5;21;01mpandas\u001b[39;00m\u001b[38;5;21;01m.\u001b[39;00m\u001b[38;5;21;01mcore\u001b[39;00m\u001b[38;5;21;01m.\u001b[39;00m\u001b[38;5;21;01mapply\u001b[39;00m \u001b[38;5;28;01mimport\u001b[39;00m frame_apply\n\u001b[1;32m   8731\u001b[0m op \u001b[38;5;241m=\u001b[39m frame_apply(\n\u001b[1;32m   8732\u001b[0m     \u001b[38;5;28mself\u001b[39m,\n\u001b[1;32m   8733\u001b[0m     func\u001b[38;5;241m=\u001b[39mfunc,\n\u001b[0;32m   (...)\u001b[0m\n\u001b[1;32m   8738\u001b[0m     kwargs\u001b[38;5;241m=\u001b[39mkwargs,\n\u001b[1;32m   8739\u001b[0m )\n\u001b[0;32m-> 8740\u001b[0m \u001b[38;5;28;01mreturn\u001b[39;00m \u001b[43mop\u001b[49m\u001b[38;5;241;43m.\u001b[39;49m\u001b[43mapply\u001b[49m\u001b[43m(\u001b[49m\u001b[43m)\u001b[49m\n",
      "File \u001b[0;32m~/work/venv/lib/python3.9/site-packages/pandas/core/apply.py:688\u001b[0m, in \u001b[0;36mFrameApply.apply\u001b[0;34m(self)\u001b[0m\n\u001b[1;32m    685\u001b[0m \u001b[38;5;28;01melif\u001b[39;00m \u001b[38;5;28mself\u001b[39m\u001b[38;5;241m.\u001b[39mraw:\n\u001b[1;32m    686\u001b[0m     \u001b[38;5;28;01mreturn\u001b[39;00m \u001b[38;5;28mself\u001b[39m\u001b[38;5;241m.\u001b[39mapply_raw()\n\u001b[0;32m--> 688\u001b[0m \u001b[38;5;28;01mreturn\u001b[39;00m \u001b[38;5;28;43mself\u001b[39;49m\u001b[38;5;241;43m.\u001b[39;49m\u001b[43mapply_standard\u001b[49m\u001b[43m(\u001b[49m\u001b[43m)\u001b[49m\n",
      "File \u001b[0;32m~/work/venv/lib/python3.9/site-packages/pandas/core/apply.py:812\u001b[0m, in \u001b[0;36mFrameApply.apply_standard\u001b[0;34m(self)\u001b[0m\n\u001b[1;32m    811\u001b[0m \u001b[38;5;28;01mdef\u001b[39;00m \u001b[38;5;21mapply_standard\u001b[39m(\u001b[38;5;28mself\u001b[39m):\n\u001b[0;32m--> 812\u001b[0m     results, res_index \u001b[38;5;241m=\u001b[39m \u001b[38;5;28;43mself\u001b[39;49m\u001b[38;5;241;43m.\u001b[39;49m\u001b[43mapply_series_generator\u001b[49m\u001b[43m(\u001b[49m\u001b[43m)\u001b[49m\n\u001b[1;32m    814\u001b[0m     \u001b[38;5;66;03m# wrap results\u001b[39;00m\n\u001b[1;32m    815\u001b[0m     \u001b[38;5;28;01mreturn\u001b[39;00m \u001b[38;5;28mself\u001b[39m\u001b[38;5;241m.\u001b[39mwrap_results(results, res_index)\n",
      "File \u001b[0;32m~/work/venv/lib/python3.9/site-packages/pandas/core/apply.py:828\u001b[0m, in \u001b[0;36mFrameApply.apply_series_generator\u001b[0;34m(self)\u001b[0m\n\u001b[1;32m    825\u001b[0m \u001b[38;5;28;01mwith\u001b[39;00m option_context(\u001b[38;5;124m\"\u001b[39m\u001b[38;5;124mmode.chained_assignment\u001b[39m\u001b[38;5;124m\"\u001b[39m, \u001b[38;5;28;01mNone\u001b[39;00m):\n\u001b[1;32m    826\u001b[0m     \u001b[38;5;28;01mfor\u001b[39;00m i, v \u001b[38;5;129;01min\u001b[39;00m \u001b[38;5;28menumerate\u001b[39m(series_gen):\n\u001b[1;32m    827\u001b[0m         \u001b[38;5;66;03m# ignore SettingWithCopy here in case the user mutates\u001b[39;00m\n\u001b[0;32m--> 828\u001b[0m         results[i] \u001b[38;5;241m=\u001b[39m \u001b[38;5;28;43mself\u001b[39;49m\u001b[38;5;241;43m.\u001b[39;49m\u001b[43mf\u001b[49m\u001b[43m(\u001b[49m\u001b[43mv\u001b[49m\u001b[43m)\u001b[49m\n\u001b[1;32m    829\u001b[0m         \u001b[38;5;28;01mif\u001b[39;00m \u001b[38;5;28misinstance\u001b[39m(results[i], ABCSeries):\n\u001b[1;32m    830\u001b[0m             \u001b[38;5;66;03m# If we have a view on v, we need to make a copy because\u001b[39;00m\n\u001b[1;32m    831\u001b[0m             \u001b[38;5;66;03m#  series_generator will swap out the underlying data\u001b[39;00m\n\u001b[1;32m    832\u001b[0m             results[i] \u001b[38;5;241m=\u001b[39m results[i]\u001b[38;5;241m.\u001b[39mcopy(deep\u001b[38;5;241m=\u001b[39m\u001b[38;5;28;01mFalse\u001b[39;00m)\n",
      "File \u001b[0;32m~/work/conveyor_project/src/housing/jobs/prepare.py:117\u001b[0m, in \u001b[0;36mcorrect_skewed_numerical_features.<locals>.<lambda>\u001b[0;34m(x)\u001b[0m\n\u001b[1;32m    115\u001b[0m \u001b[38;5;28;01mdef\u001b[39;00m \u001b[38;5;21mcorrect_skewed_numerical_features\u001b[39m(df: pd\u001b[38;5;241m.\u001b[39mDataFrame):\n\u001b[1;32m    116\u001b[0m     numeric_feats \u001b[38;5;241m=\u001b[39m df\u001b[38;5;241m.\u001b[39mdtypes[df\u001b[38;5;241m.\u001b[39mdtypes \u001b[38;5;241m!=\u001b[39m \u001b[38;5;124m\"\u001b[39m\u001b[38;5;124mstring\u001b[39m\u001b[38;5;124m\"\u001b[39m]\u001b[38;5;241m.\u001b[39mindex\n\u001b[0;32m--> 117\u001b[0m     skewed_feats \u001b[38;5;241m=\u001b[39m df[numeric_feats]\u001b[38;5;241m.\u001b[39mapply(\u001b[38;5;28;01mlambda\u001b[39;00m x: \u001b[43mskew\u001b[49m\u001b[43m(\u001b[49m\u001b[43mx\u001b[49m\u001b[38;5;241;43m.\u001b[39;49m\u001b[43mdropna\u001b[49m\u001b[43m(\u001b[49m\u001b[43m)\u001b[49m\u001b[43m)\u001b[49m)\u001b[38;5;241m.\u001b[39msort_values(ascending\u001b[38;5;241m=\u001b[39m\u001b[38;5;28;01mFalse\u001b[39;00m)\n\u001b[1;32m    118\u001b[0m     skewness \u001b[38;5;241m=\u001b[39m pd\u001b[38;5;241m.\u001b[39mDataFrame({\u001b[38;5;124m'\u001b[39m\u001b[38;5;124mSkew\u001b[39m\u001b[38;5;124m'\u001b[39m: skewed_feats})\n\u001b[1;32m    119\u001b[0m     skewness \u001b[38;5;241m=\u001b[39m skewness[\u001b[38;5;28mabs\u001b[39m(skewness) \u001b[38;5;241m>\u001b[39m \u001b[38;5;241m0.75\u001b[39m]\n",
      "File \u001b[0;32m~/work/venv/lib/python3.9/site-packages/scipy/stats/_axis_nan_policy.py:503\u001b[0m, in \u001b[0;36m_axis_nan_policy_factory.<locals>.axis_nan_policy_decorator.<locals>.axis_nan_policy_wrapper\u001b[0;34m(***failed resolving arguments***)\u001b[0m\n\u001b[1;32m    501\u001b[0m \u001b[38;5;28;01mif\u001b[39;00m sentinel:\n\u001b[1;32m    502\u001b[0m     samples \u001b[38;5;241m=\u001b[39m _remove_sentinel(samples, paired, sentinel)\n\u001b[0;32m--> 503\u001b[0m res \u001b[38;5;241m=\u001b[39m \u001b[43mhypotest_fun_out\u001b[49m\u001b[43m(\u001b[49m\u001b[38;5;241;43m*\u001b[39;49m\u001b[43msamples\u001b[49m\u001b[43m,\u001b[49m\u001b[43m \u001b[49m\u001b[38;5;241;43m*\u001b[39;49m\u001b[38;5;241;43m*\u001b[39;49m\u001b[43mkwds\u001b[49m\u001b[43m)\u001b[49m\n\u001b[1;32m    504\u001b[0m res \u001b[38;5;241m=\u001b[39m result_to_tuple(res)\n\u001b[1;32m    505\u001b[0m res \u001b[38;5;241m=\u001b[39m _add_reduced_axes(res, reduced_axes, keepdims)\n",
      "File \u001b[0;32m~/work/venv/lib/python3.9/site-packages/scipy/stats/_stats_py.py:1341\u001b[0m, in \u001b[0;36mskew\u001b[0;34m(a, axis, bias, nan_policy)\u001b[0m\n\u001b[1;32m   1338\u001b[0m     \u001b[38;5;28;01mreturn\u001b[39;00m mstats_basic\u001b[38;5;241m.\u001b[39mskew(a, axis, bias)\n\u001b[1;32m   1340\u001b[0m mean \u001b[38;5;241m=\u001b[39m a\u001b[38;5;241m.\u001b[39mmean(axis, keepdims\u001b[38;5;241m=\u001b[39m\u001b[38;5;28;01mTrue\u001b[39;00m)\n\u001b[0;32m-> 1341\u001b[0m m2 \u001b[38;5;241m=\u001b[39m \u001b[43m_moment\u001b[49m\u001b[43m(\u001b[49m\u001b[43ma\u001b[49m\u001b[43m,\u001b[49m\u001b[43m \u001b[49m\u001b[38;5;241;43m2\u001b[39;49m\u001b[43m,\u001b[49m\u001b[43m \u001b[49m\u001b[43maxis\u001b[49m\u001b[43m,\u001b[49m\u001b[43m \u001b[49m\u001b[43mmean\u001b[49m\u001b[38;5;241;43m=\u001b[39;49m\u001b[43mmean\u001b[49m\u001b[43m)\u001b[49m\n\u001b[1;32m   1342\u001b[0m m3 \u001b[38;5;241m=\u001b[39m _moment(a, \u001b[38;5;241m3\u001b[39m, axis, mean\u001b[38;5;241m=\u001b[39mmean)\n\u001b[1;32m   1343\u001b[0m \u001b[38;5;28;01mwith\u001b[39;00m np\u001b[38;5;241m.\u001b[39merrstate(\u001b[38;5;28mall\u001b[39m\u001b[38;5;241m=\u001b[39m\u001b[38;5;124m'\u001b[39m\u001b[38;5;124mignore\u001b[39m\u001b[38;5;124m'\u001b[39m):\n",
      "File \u001b[0;32m~/work/venv/lib/python3.9/site-packages/scipy/stats/_stats_py.py:1220\u001b[0m, in \u001b[0;36m_moment\u001b[0;34m(a, moment, axis, mean)\u001b[0m\n\u001b[1;32m   1217\u001b[0m mean \u001b[38;5;241m=\u001b[39m a\u001b[38;5;241m.\u001b[39mmean(axis, keepdims\u001b[38;5;241m=\u001b[39m\u001b[38;5;28;01mTrue\u001b[39;00m) \u001b[38;5;28;01mif\u001b[39;00m mean \u001b[38;5;129;01mis\u001b[39;00m \u001b[38;5;28;01mNone\u001b[39;00m \u001b[38;5;28;01melse\u001b[39;00m mean\n\u001b[1;32m   1218\u001b[0m a_zero_mean \u001b[38;5;241m=\u001b[39m a \u001b[38;5;241m-\u001b[39m mean\n\u001b[0;32m-> 1220\u001b[0m eps \u001b[38;5;241m=\u001b[39m \u001b[43mnp\u001b[49m\u001b[38;5;241;43m.\u001b[39;49m\u001b[43mfinfo\u001b[49m\u001b[43m(\u001b[49m\u001b[43ma_zero_mean\u001b[49m\u001b[38;5;241;43m.\u001b[39;49m\u001b[43mdtype\u001b[49m\u001b[43m)\u001b[49m\u001b[38;5;241m.\u001b[39mresolution \u001b[38;5;241m*\u001b[39m \u001b[38;5;241m10\u001b[39m\n\u001b[1;32m   1221\u001b[0m \u001b[38;5;28;01mwith\u001b[39;00m np\u001b[38;5;241m.\u001b[39merrstate(divide\u001b[38;5;241m=\u001b[39m\u001b[38;5;124m'\u001b[39m\u001b[38;5;124mignore\u001b[39m\u001b[38;5;124m'\u001b[39m, invalid\u001b[38;5;241m=\u001b[39m\u001b[38;5;124m'\u001b[39m\u001b[38;5;124mignore\u001b[39m\u001b[38;5;124m'\u001b[39m):\n\u001b[1;32m   1222\u001b[0m     rel_diff \u001b[38;5;241m=\u001b[39m np\u001b[38;5;241m.\u001b[39mmax(np\u001b[38;5;241m.\u001b[39mabs(a_zero_mean), axis\u001b[38;5;241m=\u001b[39maxis,\n\u001b[1;32m   1223\u001b[0m                       keepdims\u001b[38;5;241m=\u001b[39m\u001b[38;5;28;01mTrue\u001b[39;00m) \u001b[38;5;241m/\u001b[39m np\u001b[38;5;241m.\u001b[39mabs(mean)\n",
      "File \u001b[0;32m~/work/venv/lib/python3.9/site-packages/numpy/core/getlimits.py:398\u001b[0m, in \u001b[0;36mfinfo.__new__\u001b[0;34m(cls, dtype)\u001b[0m\n\u001b[1;32m    396\u001b[0m     dtype \u001b[38;5;241m=\u001b[39m newdtype\n\u001b[1;32m    397\u001b[0m \u001b[38;5;28;01mif\u001b[39;00m \u001b[38;5;129;01mnot\u001b[39;00m \u001b[38;5;28missubclass\u001b[39m(dtype, numeric\u001b[38;5;241m.\u001b[39minexact):\n\u001b[0;32m--> 398\u001b[0m     \u001b[38;5;28;01mraise\u001b[39;00m \u001b[38;5;167;01mValueError\u001b[39;00m(\u001b[38;5;124m\"\u001b[39m\u001b[38;5;124mdata type \u001b[39m\u001b[38;5;132;01m%r\u001b[39;00m\u001b[38;5;124m not inexact\u001b[39m\u001b[38;5;124m\"\u001b[39m \u001b[38;5;241m%\u001b[39m (dtype))\n\u001b[1;32m    399\u001b[0m obj \u001b[38;5;241m=\u001b[39m \u001b[38;5;28mcls\u001b[39m\u001b[38;5;241m.\u001b[39m_finfo_cache\u001b[38;5;241m.\u001b[39mget(dtype, \u001b[38;5;28;01mNone\u001b[39;00m)\n\u001b[1;32m    400\u001b[0m \u001b[38;5;28;01mif\u001b[39;00m obj \u001b[38;5;129;01mis\u001b[39;00m \u001b[38;5;129;01mnot\u001b[39;00m \u001b[38;5;28;01mNone\u001b[39;00m:\n",
      "\u001b[0;31mValueError\u001b[0m: data type <class 'numpy.object_'> not inexact"
     ]
    }
   ],
   "source": [
    "prepare.run(config)"
   ]
  },
  {
   "cell_type": "markdown",
   "id": "68e83226-8efb-4182-954a-c66830a97736",
   "metadata": {},
   "source": [
    "## Train model"
   ]
  },
  {
   "cell_type": "code",
   "execution_count": 4,
   "id": "7400f2bb-4d5b-4b8e-8f87-56aa1638ce28",
   "metadata": {},
   "outputs": [
    {
     "name": "stderr",
     "output_type": "stream",
     "text": [
      "INFO:root:Training the classifier\n",
      "INFO:root:Using bucket titanic-samples-uflwdn\n",
      "INFO:root:Loading parquet data from s3://titanic-samples-uflwdn/housing/features/training/date=2022-09-13/data.parquet\n",
      "INFO:root:Score of model: 0.9829303425650037\n",
      "INFO:root:Using bucket titanic-samples-uflwdn\n",
      "INFO:root:Training done.\n"
     ]
    }
   ],
   "source": [
    "train.run(config)"
   ]
  },
  {
   "cell_type": "markdown",
   "id": "5aa71f23-b2fd-4ab2-95a3-783d6d28d114",
   "metadata": {},
   "source": [
    "## Evaluate"
   ]
  },
  {
   "cell_type": "code",
   "execution_count": 5,
   "id": "3e445e55-d8e5-48e8-afb8-5bda7bcd3943",
   "metadata": {},
   "outputs": [
    {
     "name": "stderr",
     "output_type": "stream",
     "text": [
      "INFO:root:Predicting housing sale price for test dataset.\n",
      "INFO:root:Using bucket titanic-samples-uflwdn\n",
      "INFO:root:Loading parquet data from s3://titanic-samples-uflwdn/housing/features/testing/date=2022-09-13/data.parquet\n",
      "INFO:root:Using bucket titanic-samples-uflwdn\n",
      "INFO:root:Using bucket titanic-samples-uflwdn\n",
      "INFO:root:Writing parquet data to s3://titanic-samples-uflwdn/housing/evaluation/date=2022-09-13/data.parquet\n",
      "INFO:root:Gboost score: 0.8793 (0.1422)\n"
     ]
    }
   ],
   "source": [
    "evaluate.run(config)"
   ]
  },
  {
   "cell_type": "code",
   "execution_count": null,
   "id": "3ea59cc5-a928-40d8-adfa-18183dd954f4",
   "metadata": {},
   "outputs": [],
   "source": []
  }
 ],
 "metadata": {
  "kernelspec": {
   "display_name": "Python 3.9",
   "language": "python",
   "name": "python3.9"
  },
  "language_info": {
   "codemirror_mode": {
    "name": "ipython",
    "version": 3
   },
   "file_extension": ".py",
   "mimetype": "text/x-python",
   "name": "python",
   "nbconvert_exporter": "python",
   "pygments_lexer": "ipython3",
   "version": "3.9.7"
  }
 },
 "nbformat": 4,
 "nbformat_minor": 5
}
