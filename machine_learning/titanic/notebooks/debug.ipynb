{
 "cells": [
  {
   "cell_type": "markdown",
   "id": "7b1fd355-bb9d-4f46-87c5-07a2fd14fe9b",
   "metadata": {},
   "source": [
    "# Debugging our code"
   ]
  },
  {
   "cell_type": "markdown",
   "id": "89cdd370-3317-4ce6-a4b3-dca9a4a5c46d",
   "metadata": {},
   "source": [
    "In this notebook we show, how you can call and test your code directly from within a notebook."
   ]
  },
  {
   "cell_type": "code",
   "execution_count": 2,
   "id": "9b8cd40f-fdd0-4114-a33a-0db45d5bb135",
   "metadata": {},
   "outputs": [],
   "source": [
    "from titanic.config import Config\n",
    "from titanic.jobs import validate, prepare, train, evaluate\n",
    "\n",
    "import logging\n",
    "logger = logging.getLogger()\n",
    "logger.setLevel(logging.INFO)\n",
    "\n",
    "config = Config(asset=\"train\", date=\"2020-01-01\")"
   ]
  },
  {
   "cell_type": "markdown",
   "id": "4de80f5a-94df-42d5-991e-a41d1242eda4",
   "metadata": {},
   "source": [
    "## Validate data"
   ]
  },
  {
   "cell_type": "code",
   "execution_count": 3,
   "id": "207c45aa-1844-4ab0-9f29-a6bdf5aef977",
   "metadata": {},
   "outputs": [
    {
     "name": "stderr",
     "output_type": "stream",
     "text": [
      "INFO:root:Validating train dataset for date 2020-01-01...\n",
      "INFO:root:Using bucket datafy-samples-5ff98b20\n",
      "INFO:root:Loading csv data from s3://datafy-samples-5ff98b20/titanic/raw/train.csv\n",
      "INFO:root:Using bucket datafy-samples-5ff98b20\n",
      "INFO:root:Writing parquet data to s3://datafy-samples-5ff98b20/titanic/valid/date=2020-01-01/data.parquet\n",
      "INFO:root:Done validating.\n"
     ]
    }
   ],
   "source": [
    "validate.run(config)"
   ]
  },
  {
   "cell_type": "markdown",
   "id": "ff20f741-666c-4007-827b-5124824fbcd9",
   "metadata": {},
   "source": [
    "## Prepare data"
   ]
  },
  {
   "cell_type": "code",
   "execution_count": 4,
   "id": "71aa9308-a990-4d0d-8244-33a066cd3b48",
   "metadata": {},
   "outputs": [
    {
     "name": "stderr",
     "output_type": "stream",
     "text": [
      "INFO:root:Preparing features for dataset train for date 2020-01-01...\n",
      "INFO:root:Using bucket datafy-samples-5ff98b20\n",
      "INFO:root:Loading parquet data from s3://datafy-samples-5ff98b20/titanic/valid/date=2020-01-01/data.parquet\n",
      "INFO:root:Using bucket datafy-samples-5ff98b20\n",
      "INFO:root:Writing parquet data to s3://datafy-samples-5ff98b20/titanic/features/training/date=2020-01-01/data.parquet\n",
      "INFO:root:Using bucket datafy-samples-5ff98b20\n",
      "INFO:root:Writing parquet data to s3://datafy-samples-5ff98b20/titanic/features/testing/date=2020-01-01/data.parquet\n",
      "INFO:root:Done extracting features.\n"
     ]
    }
   ],
   "source": [
    "prepare.run(config)"
   ]
  },
  {
   "cell_type": "markdown",
   "id": "68e83226-8efb-4182-954a-c66830a97736",
   "metadata": {},
   "source": [
    "## Train model"
   ]
  },
  {
   "cell_type": "code",
   "execution_count": 5,
   "id": "7400f2bb-4d5b-4b8e-8f87-56aa1638ce28",
   "metadata": {},
   "outputs": [
    {
     "name": "stderr",
     "output_type": "stream",
     "text": [
      "INFO:root:Training the classifier\n",
      "INFO:root:Using bucket datafy-samples-5ff98b20\n",
      "INFO:root:Loading parquet data from s3://datafy-samples-5ff98b20/titanic/features/training/date=2020-01-01/data.parquet\n",
      "INFO:root:Using bucket datafy-samples-5ff98b20\n",
      "INFO:root:Training done.\n"
     ]
    }
   ],
   "source": [
    "train.run(config)"
   ]
  },
  {
   "cell_type": "markdown",
   "id": "5aa71f23-b2fd-4ab2-95a3-783d6d28d114",
   "metadata": {},
   "source": [
    "## Evaluate"
   ]
  },
  {
   "cell_type": "code",
   "execution_count": 6,
   "id": "3e445e55-d8e5-48e8-afb8-5bda7bcd3943",
   "metadata": {},
   "outputs": [
    {
     "name": "stderr",
     "output_type": "stream",
     "text": [
      "INFO:root:Predicting titanic survival for test dataset.\n",
      "INFO:root:Using bucket datafy-samples-5ff98b20\n",
      "INFO:root:Loading parquet data from s3://datafy-samples-5ff98b20/titanic/features/testing/date=2020-01-01/data.parquet\n",
      "INFO:root:Using bucket datafy-samples-5ff98b20\n",
      "INFO:root:Using bucket datafy-samples-5ff98b20\n",
      "INFO:root:Writing parquet data to s3://datafy-samples-5ff98b20/titanic/evaluation/date=2020-01-01/data.parquet\n",
      "INFO:root:Prediction done with accuracy 82.68156424581005%.\n"
     ]
    }
   ],
   "source": [
    "evaluate.run(config)"
   ]
  },
  {
   "cell_type": "code",
   "execution_count": null,
   "id": "3ea59cc5-a928-40d8-adfa-18183dd954f4",
   "metadata": {},
   "outputs": [],
   "source": []
  }
 ],
 "metadata": {
  "kernelspec": {
   "display_name": "Python 3.9",
   "language": "python",
   "name": "python3.9"
  },
  "language_info": {
   "codemirror_mode": {
    "name": "ipython",
    "version": 3
   },
   "file_extension": ".py",
   "mimetype": "text/x-python",
   "name": "python",
   "nbconvert_exporter": "python",
   "pygments_lexer": "ipython3",
   "version": "3.9.7"
  }
 },
 "nbformat": 4,
 "nbformat_minor": 5
}
