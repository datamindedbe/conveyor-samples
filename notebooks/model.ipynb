{
 "cells": [
  {
   "cell_type": "markdown",
   "metadata": {
    "tags": []
   },
   "source": [
    "# Building a first model for the Titanic Survival Problem\n",
    "\n",
    "First we will import the necessary."
   ]
  },
  {
   "cell_type": "code",
   "execution_count": 1,
   "metadata": {
    "collapsed": false,
    "jupyter": {
     "outputs_hidden": false
    },
    "pycharm": {
     "name": "#%%\n"
    }
   },
   "outputs": [],
   "source": [
    "import pandas as pd\n",
    "import awswrangler as wr\n",
    "import boto3\n",
    "\n",
    "from titanic.jobs.prepare import add_gender_feature, add_age_feature, add_family_size_feature, add_has_cabin_feature, add_categorical_fare_feature, add_title_feature\n",
    "\n",
    "from sklearn.model_selection import train_test_split\n",
    "from sklearn.model_selection import cross_val_score\n",
    "from sklearn.ensemble import VotingClassifier\n",
    "from sklearn.ensemble import (RandomForestClassifier, AdaBoostClassifier, \n",
    "                              GradientBoostingClassifier, ExtraTreesClassifier)"
   ]
  },
  {
   "cell_type": "markdown",
   "metadata": {},
   "source": [
    "## Feature Engineering\n",
    "\n",
    "We will start by using only a limited subset of features based on our exploration:\n",
    "- Sex\n",
    "- Age\n",
    "- Family size\n",
    "- Cabin\n",
    "- Fare"
   ]
  },
  {
   "cell_type": "code",
   "execution_count": 3,
   "metadata": {
    "collapsed": false,
    "jupyter": {
     "outputs_hidden": false
    },
    "pycharm": {
     "name": "#%% Sexes\n"
    }
   },
   "outputs": [
    {
     "data": {
      "text/html": [
       "<div>\n",
       "<style scoped>\n",
       "    .dataframe tbody tr th:only-of-type {\n",
       "        vertical-align: middle;\n",
       "    }\n",
       "\n",
       "    .dataframe tbody tr th {\n",
       "        vertical-align: top;\n",
       "    }\n",
       "\n",
       "    .dataframe thead th {\n",
       "        text-align: right;\n",
       "    }\n",
       "</style>\n",
       "<table border=\"1\" class=\"dataframe\">\n",
       "  <thead>\n",
       "    <tr style=\"text-align: right;\">\n",
       "      <th></th>\n",
       "      <th>Survived</th>\n",
       "      <th>Pclass</th>\n",
       "      <th>Age</th>\n",
       "      <th>Fare</th>\n",
       "      <th>SexNumerical</th>\n",
       "      <th>FamilySize</th>\n",
       "      <th>HasCabin</th>\n",
       "      <th>CategoricalFare</th>\n",
       "      <th>Title</th>\n",
       "    </tr>\n",
       "  </thead>\n",
       "  <tbody>\n",
       "    <tr>\n",
       "      <th>0</th>\n",
       "      <td>0</td>\n",
       "      <td>3</td>\n",
       "      <td>22.0</td>\n",
       "      <td>7.2500</td>\n",
       "      <td>1</td>\n",
       "      <td>1</td>\n",
       "      <td>0</td>\n",
       "      <td>0</td>\n",
       "      <td>3</td>\n",
       "    </tr>\n",
       "    <tr>\n",
       "      <th>1</th>\n",
       "      <td>1</td>\n",
       "      <td>1</td>\n",
       "      <td>38.0</td>\n",
       "      <td>71.2833</td>\n",
       "      <td>0</td>\n",
       "      <td>1</td>\n",
       "      <td>1</td>\n",
       "      <td>3</td>\n",
       "      <td>2</td>\n",
       "    </tr>\n",
       "    <tr>\n",
       "      <th>2</th>\n",
       "      <td>1</td>\n",
       "      <td>3</td>\n",
       "      <td>26.0</td>\n",
       "      <td>7.9250</td>\n",
       "      <td>0</td>\n",
       "      <td>0</td>\n",
       "      <td>0</td>\n",
       "      <td>1</td>\n",
       "      <td>4</td>\n",
       "    </tr>\n",
       "    <tr>\n",
       "      <th>3</th>\n",
       "      <td>1</td>\n",
       "      <td>1</td>\n",
       "      <td>35.0</td>\n",
       "      <td>53.1000</td>\n",
       "      <td>0</td>\n",
       "      <td>1</td>\n",
       "      <td>1</td>\n",
       "      <td>3</td>\n",
       "      <td>2</td>\n",
       "    </tr>\n",
       "    <tr>\n",
       "      <th>4</th>\n",
       "      <td>0</td>\n",
       "      <td>3</td>\n",
       "      <td>35.0</td>\n",
       "      <td>8.0500</td>\n",
       "      <td>1</td>\n",
       "      <td>0</td>\n",
       "      <td>0</td>\n",
       "      <td>1</td>\n",
       "      <td>3</td>\n",
       "    </tr>\n",
       "    <tr>\n",
       "      <th>...</th>\n",
       "      <td>...</td>\n",
       "      <td>...</td>\n",
       "      <td>...</td>\n",
       "      <td>...</td>\n",
       "      <td>...</td>\n",
       "      <td>...</td>\n",
       "      <td>...</td>\n",
       "      <td>...</td>\n",
       "      <td>...</td>\n",
       "    </tr>\n",
       "    <tr>\n",
       "      <th>886</th>\n",
       "      <td>0</td>\n",
       "      <td>2</td>\n",
       "      <td>27.0</td>\n",
       "      <td>13.0000</td>\n",
       "      <td>1</td>\n",
       "      <td>0</td>\n",
       "      <td>0</td>\n",
       "      <td>1</td>\n",
       "      <td>4</td>\n",
       "    </tr>\n",
       "    <tr>\n",
       "      <th>887</th>\n",
       "      <td>1</td>\n",
       "      <td>1</td>\n",
       "      <td>19.0</td>\n",
       "      <td>30.0000</td>\n",
       "      <td>0</td>\n",
       "      <td>0</td>\n",
       "      <td>1</td>\n",
       "      <td>2</td>\n",
       "      <td>4</td>\n",
       "    </tr>\n",
       "    <tr>\n",
       "      <th>888</th>\n",
       "      <td>0</td>\n",
       "      <td>3</td>\n",
       "      <td>21.5</td>\n",
       "      <td>23.4500</td>\n",
       "      <td>0</td>\n",
       "      <td>3</td>\n",
       "      <td>0</td>\n",
       "      <td>2</td>\n",
       "      <td>4</td>\n",
       "    </tr>\n",
       "    <tr>\n",
       "      <th>889</th>\n",
       "      <td>1</td>\n",
       "      <td>1</td>\n",
       "      <td>26.0</td>\n",
       "      <td>30.0000</td>\n",
       "      <td>1</td>\n",
       "      <td>0</td>\n",
       "      <td>1</td>\n",
       "      <td>2</td>\n",
       "      <td>3</td>\n",
       "    </tr>\n",
       "    <tr>\n",
       "      <th>890</th>\n",
       "      <td>0</td>\n",
       "      <td>3</td>\n",
       "      <td>32.0</td>\n",
       "      <td>7.7500</td>\n",
       "      <td>1</td>\n",
       "      <td>0</td>\n",
       "      <td>0</td>\n",
       "      <td>0</td>\n",
       "      <td>3</td>\n",
       "    </tr>\n",
       "  </tbody>\n",
       "</table>\n",
       "<p>891 rows × 9 columns</p>\n",
       "</div>"
      ],
      "text/plain": [
       "     Survived  Pclass   Age     Fare  SexNumerical  FamilySize  HasCabin  \\\n",
       "0           0       3  22.0   7.2500             1           1         0   \n",
       "1           1       1  38.0  71.2833             0           1         1   \n",
       "2           1       3  26.0   7.9250             0           0         0   \n",
       "3           1       1  35.0  53.1000             0           1         1   \n",
       "4           0       3  35.0   8.0500             1           0         0   \n",
       "..        ...     ...   ...      ...           ...         ...       ...   \n",
       "886         0       2  27.0  13.0000             1           0         0   \n",
       "887         1       1  19.0  30.0000             0           0         1   \n",
       "888         0       3  21.5  23.4500             0           3         0   \n",
       "889         1       1  26.0  30.0000             1           0         1   \n",
       "890         0       3  32.0   7.7500             1           0         0   \n",
       "\n",
       "     CategoricalFare  Title  \n",
       "0                  0      3  \n",
       "1                  3      2  \n",
       "2                  1      4  \n",
       "3                  3      2  \n",
       "4                  1      3  \n",
       "..               ...    ...  \n",
       "886                1      4  \n",
       "887                2      4  \n",
       "888                2      4  \n",
       "889                2      3  \n",
       "890                0      3  \n",
       "\n",
       "[891 rows x 9 columns]"
      ]
     },
     "execution_count": 3,
     "metadata": {},
     "output_type": "execute_result"
    }
   ],
   "source": [
    "boto3.setup_default_session()\n",
    "ssm = boto3.client('ssm')\n",
    "parameter = ssm.get_parameter(Name='/datafy-samples/bucket/name')\n",
    "bucket = parameter['Parameter']['Value']\n",
    "\n",
    "df = wr.s3.read_csv(path=f\"s3://{bucket}/titanic/raw/train.csv\")\n",
    "\n",
    "add_gender_feature(df)\n",
    "add_age_feature(df)\n",
    "add_family_size_feature(df)\n",
    "add_has_cabin_feature(df)\n",
    "add_categorical_fare_feature(df)\n",
    "add_title_feature(df)\n",
    "df = df.drop(\n",
    "    ['Name', 'Sex', 'Ticket', 'Cabin', 'Embarked', 'SibSp', 'Parch', 'PassengerId'], axis=1\n",
    ")\n",
    "df"
   ]
  },
  {
   "cell_type": "markdown",
   "metadata": {},
   "source": [
    "We have our dataset and separate the target variable from the dataset."
   ]
  },
  {
   "cell_type": "code",
   "execution_count": 5,
   "metadata": {
    "collapsed": false,
    "jupyter": {
     "outputs_hidden": false
    },
    "pycharm": {
     "name": "#%% Age\n"
    }
   },
   "outputs": [],
   "source": [
    "target = 'Survived'\n",
    "features = [ col for col in df.columns if col != target ]\n",
    "X, y = df[features], df[target]"
   ]
  },
  {
   "cell_type": "markdown",
   "metadata": {},
   "source": [
    "Now its time to initialize our models. After initializing I am calculating the feature importances predicted by each model.\n",
    "\n",
    "Note that I am passing a same random state to all the models. But why?\n",
    "\n",
    "Using this seed parameter makes sure that anyone who re-runs your code will get the exact same outputs which is extremely important concept in data science."
   ]
  },
  {
   "cell_type": "code",
   "execution_count": 6,
   "metadata": {
    "collapsed": false,
    "jupyter": {
     "outputs_hidden": false
    },
    "pycharm": {
     "name": "#%% Family size\n"
    }
   },
   "outputs": [],
   "source": [
    "parameters = {\n",
    "    \"random_state\": 2,\n",
    "}\n",
    "\n",
    "rf = RandomForestClassifier(**parameters)\n",
    "et = ExtraTreesClassifier(**parameters)\n",
    "ada = AdaBoostClassifier(**parameters)\n",
    "gb = GradientBoostingClassifier(**parameters)\n",
    "\n",
    "models = [rf, et, ada, gb]\n",
    "model_names = ['RandomForest', 'ExtraTrees', 'Ada', 'GradientBoost']\n",
    "[ m.fit(X, y) for m in models ]\n",
    "feature_importances = { name: m.feature_importances_ for name, m in zip(model_names, models) }"
   ]
  },
  {
   "cell_type": "markdown",
   "metadata": {},
   "source": [
    "Now we take a mean of feature importance calculated by each model."
   ]
  },
  {
   "cell_type": "code",
   "execution_count": 7,
   "metadata": {
    "collapsed": false,
    "jupyter": {
     "outputs_hidden": false
    },
    "pycharm": {
     "name": "#%% Keeping only features we want for the model\n"
    }
   },
   "outputs": [
    {
     "data": {
      "text/html": [
       "<div>\n",
       "<style scoped>\n",
       "    .dataframe tbody tr th:only-of-type {\n",
       "        vertical-align: middle;\n",
       "    }\n",
       "\n",
       "    .dataframe tbody tr th {\n",
       "        vertical-align: top;\n",
       "    }\n",
       "\n",
       "    .dataframe thead th {\n",
       "        text-align: right;\n",
       "    }\n",
       "</style>\n",
       "<table border=\"1\" class=\"dataframe\">\n",
       "  <thead>\n",
       "    <tr style=\"text-align: right;\">\n",
       "      <th></th>\n",
       "      <th>features</th>\n",
       "      <th>RandomForest</th>\n",
       "      <th>ExtraTrees</th>\n",
       "      <th>Ada</th>\n",
       "      <th>GradientBoost</th>\n",
       "      <th>mean</th>\n",
       "    </tr>\n",
       "  </thead>\n",
       "  <tbody>\n",
       "    <tr>\n",
       "      <th>0</th>\n",
       "      <td>Pclass</td>\n",
       "      <td>0.066796</td>\n",
       "      <td>0.079641</td>\n",
       "      <td>0.04</td>\n",
       "      <td>0.122411</td>\n",
       "      <td>0.077212</td>\n",
       "    </tr>\n",
       "    <tr>\n",
       "      <th>1</th>\n",
       "      <td>Age</td>\n",
       "      <td>0.244360</td>\n",
       "      <td>0.236823</td>\n",
       "      <td>0.34</td>\n",
       "      <td>0.125614</td>\n",
       "      <td>0.236699</td>\n",
       "    </tr>\n",
       "    <tr>\n",
       "      <th>2</th>\n",
       "      <td>Fare</td>\n",
       "      <td>0.239435</td>\n",
       "      <td>0.195440</td>\n",
       "      <td>0.32</td>\n",
       "      <td>0.136967</td>\n",
       "      <td>0.222961</td>\n",
       "    </tr>\n",
       "    <tr>\n",
       "      <th>3</th>\n",
       "      <td>SexNumerical</td>\n",
       "      <td>0.188492</td>\n",
       "      <td>0.224235</td>\n",
       "      <td>0.02</td>\n",
       "      <td>0.480577</td>\n",
       "      <td>0.228326</td>\n",
       "    </tr>\n",
       "    <tr>\n",
       "      <th>4</th>\n",
       "      <td>FamilySize</td>\n",
       "      <td>0.075484</td>\n",
       "      <td>0.076792</td>\n",
       "      <td>0.14</td>\n",
       "      <td>0.074800</td>\n",
       "      <td>0.091769</td>\n",
       "    </tr>\n",
       "    <tr>\n",
       "      <th>5</th>\n",
       "      <td>HasCabin</td>\n",
       "      <td>0.041184</td>\n",
       "      <td>0.046937</td>\n",
       "      <td>0.04</td>\n",
       "      <td>0.043106</td>\n",
       "      <td>0.042807</td>\n",
       "    </tr>\n",
       "    <tr>\n",
       "      <th>6</th>\n",
       "      <td>CategoricalFare</td>\n",
       "      <td>0.036276</td>\n",
       "      <td>0.048421</td>\n",
       "      <td>0.02</td>\n",
       "      <td>0.001482</td>\n",
       "      <td>0.026545</td>\n",
       "    </tr>\n",
       "    <tr>\n",
       "      <th>7</th>\n",
       "      <td>Title</td>\n",
       "      <td>0.107973</td>\n",
       "      <td>0.091710</td>\n",
       "      <td>0.08</td>\n",
       "      <td>0.015044</td>\n",
       "      <td>0.073682</td>\n",
       "    </tr>\n",
       "  </tbody>\n",
       "</table>\n",
       "</div>"
      ],
      "text/plain": [
       "          features  RandomForest  ExtraTrees   Ada  GradientBoost      mean\n",
       "0           Pclass      0.066796    0.079641  0.04       0.122411  0.077212\n",
       "1              Age      0.244360    0.236823  0.34       0.125614  0.236699\n",
       "2             Fare      0.239435    0.195440  0.32       0.136967  0.222961\n",
       "3     SexNumerical      0.188492    0.224235  0.02       0.480577  0.228326\n",
       "4       FamilySize      0.075484    0.076792  0.14       0.074800  0.091769\n",
       "5         HasCabin      0.041184    0.046937  0.04       0.043106  0.042807\n",
       "6  CategoricalFare      0.036276    0.048421  0.02       0.001482  0.026545\n",
       "7            Title      0.107973    0.091710  0.08       0.015044  0.073682"
      ]
     },
     "execution_count": 7,
     "metadata": {},
     "output_type": "execute_result"
    }
   ],
   "source": [
    "feature_df = pd.DataFrame(feature_importances)\n",
    "feature_df.insert(0, 'features', features)\n",
    "\n",
    "feature_df['mean'] = feature_df.mean(axis=1, numeric_only=True)\n",
    "feature_df"
   ]
  },
  {
   "cell_type": "markdown",
   "metadata": {
    "jupyter": {
     "outputs_hidden": false
    },
    "pycharm": {
     "name": "#%% Convert the DataFrame to a numpy array\n"
    },
    "tags": []
   },
   "source": [
    "From the above data, we can see that Sex, Age and Fare played important role in predicting the target variable Survived.\n",
    "\n",
    "## Model training and evaluation\n",
    "\n",
    "Now we import train_test_split from sklearn package for splitting the data into train and test sets.\n",
    "\n",
    "Here I am taking 20% of the data for testing and the rest 80% for training."
   ]
  },
  {
   "cell_type": "code",
   "execution_count": 8,
   "metadata": {},
   "outputs": [],
   "source": [
    "X_train, X_test, y_train, y_test = train_test_split(X, y, test_size=0.2)"
   ]
  },
  {
   "cell_type": "markdown",
   "metadata": {},
   "source": [
    "Voting Classifier is a machine learning model which ensembles predictions from a number of machine learning models and predicts the output based on voting.\n",
    "\n",
    "So we are going to use voting classifier from sklearn for prediction.\n",
    "\n",
    "Lets import the package and initialize the model and then fit the data in voting classifier."
   ]
  },
  {
   "cell_type": "code",
   "execution_count": 9,
   "metadata": {},
   "outputs": [],
   "source": [
    "vc = VotingClassifier(voting='soft', estimators=[\n",
    "    (name, m) for name, m in zip(model_names, models)\n",
    "])"
   ]
  },
  {
   "cell_type": "code",
   "execution_count": 10,
   "metadata": {},
   "outputs": [
    {
     "data": {
      "text/plain": [
       "VotingClassifier(estimators=[('RandomForest',\n",
       "                              RandomForestClassifier(random_state=2)),\n",
       "                             ('ExtraTrees',\n",
       "                              ExtraTreesClassifier(random_state=2)),\n",
       "                             ('Ada', AdaBoostClassifier(random_state=2)),\n",
       "                             ('GradientBoost',\n",
       "                              GradientBoostingClassifier(random_state=2))],\n",
       "                 voting='soft')"
      ]
     },
     "execution_count": 10,
     "metadata": {},
     "output_type": "execute_result"
    }
   ],
   "source": [
    "vc.fit(X, y)"
   ]
  },
  {
   "cell_type": "markdown",
   "metadata": {},
   "source": [
    "scores = cross_val_score(vc, X, y, cv=5, scoring='accuracy')\n",
    "scoresBased on voting classifiers predictions lets calculate the cross validation scores."
   ]
  },
  {
   "cell_type": "code",
   "execution_count": 11,
   "metadata": {},
   "outputs": [
    {
     "data": {
      "text/plain": [
       "array([0.82122905, 0.80337079, 0.87078652, 0.76966292, 0.84269663])"
      ]
     },
     "execution_count": 11,
     "metadata": {},
     "output_type": "execute_result"
    }
   ],
   "source": [
    "scores = cross_val_score(vc, X, y, cv=5, scoring='accuracy')\n",
    "scores"
   ]
  },
  {
   "cell_type": "markdown",
   "metadata": {},
   "source": [
    "Now we fit the data and then compare our predictions with actual data to get accuracy."
   ]
  },
  {
   "cell_type": "code",
   "execution_count": 12,
   "metadata": {},
   "outputs": [
    {
     "data": {
      "text/plain": [
       "VotingClassifier(estimators=[('RandomForest',\n",
       "                              RandomForestClassifier(random_state=2)),\n",
       "                             ('ExtraTrees',\n",
       "                              ExtraTreesClassifier(random_state=2)),\n",
       "                             ('Ada', AdaBoostClassifier(random_state=2)),\n",
       "                             ('GradientBoost',\n",
       "                              GradientBoostingClassifier(random_state=2))],\n",
       "                 voting='soft')"
      ]
     },
     "execution_count": 12,
     "metadata": {},
     "output_type": "execute_result"
    }
   ],
   "source": [
    "vc.fit(X_train, y_train)"
   ]
  },
  {
   "cell_type": "code",
   "execution_count": 14,
   "metadata": {},
   "outputs": [
    {
     "data": {
      "text/plain": [
       "84.35754189944134"
      ]
     },
     "execution_count": 14,
     "metadata": {},
     "output_type": "execute_result"
    }
   ],
   "source": [
    "pred = vc.predict(X_test)\n",
    "100. * (pred == y_test).mean()"
   ]
  },
  {
   "cell_type": "markdown",
   "metadata": {},
   "source": [
    "We get an accuracy of 79.32% which isn’t great. But that’s okay. Progress happens in small increments. Let's stop the experiment and save the data."
   ]
  }
 ],
 "metadata": {
  "kernelspec": {
   "display_name": "Python 3.9",
   "language": "python",
   "name": "python3.9"
  },
  "language_info": {
   "codemirror_mode": {
    "name": "ipython",
    "version": 3
   },
   "file_extension": ".py",
   "mimetype": "text/x-python",
   "name": "python",
   "nbconvert_exporter": "python",
   "pygments_lexer": "ipython3",
   "version": "3.9.7"
  }
 },
 "nbformat": 4,
 "nbformat_minor": 4
}
