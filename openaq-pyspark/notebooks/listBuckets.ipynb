{
 "cells": [
  {
   "cell_type": "code",
   "execution_count": 10,
   "id": "acb3293f-49bb-412c-8daa-9414ebe01864",
   "metadata": {},
   "outputs": [
    {
     "name": "stdout",
     "output_type": "stream",
     "text": [
      "Existing buckets:\n",
      "  advanced-demo-forecast-bucket\n",
      "  advanced-demo-njzxk\n",
      "  aws-athena-query-results-130966031144-eu-west-1\n",
      "  aws-logs-130966031144-eu-west-1\n",
      "  aws-python-demo-dev-serverlessdeploymentbucket-1oe0oexsfda5m\n",
      "  aws-python-simple-http-e-serverlessdeploymentbuck-jbx98jvyhymd\n",
      "  datafy-auxilliary-services\n",
      "  datafy-demo-data\n",
      "  datafy-demo-query-results\n",
      "  datafy-dp-artifacts-fidlcb\n",
      "  datafy-dp-terraform-state-umxtub\n",
      "  datafy-project-based-data-access-demo\n",
      "  datafy-terraform-state-training\n",
      "  datafy-training\n",
      "  dm-summer-capstone\n",
      "  jonny-bucket-datafy\n",
      "  jpmcdemo-datafy-demo-data\n",
      "  lakefs-ckitup\n",
      "  sagemaker-eu-west-1-130966031144\n",
      "  webinar-containers-airflow\n",
      "  webinar-containers-data\n",
      "  webinar-containers-terraform-state\n"
     ]
    }
   ],
   "source": [
    "import boto3\n",
    "s3 = boto3.client('s3')\n",
    "response = s3.list_buckets()\n",
    "\n",
    "# Output the bucket names\n",
    "print('Existing buckets:')\n",
    "for bucket in response['Buckets']:\n",
    "    print(f'  {bucket[\"Name\"]}')"
   ]
  },
  {
   "cell_type": "code",
   "execution_count": null,
   "id": "46383b6c-e623-42c9-b919-dc0bf0d82e92",
   "metadata": {},
   "outputs": [],
   "source": []
  }
 ],
 "metadata": {
  "kernelspec": {
   "display_name": "Python 3.9",
   "language": "python",
   "name": "python3.9"
  },
  "language_info": {
   "codemirror_mode": {
    "name": "ipython",
    "version": 3
   },
   "file_extension": ".py",
   "mimetype": "text/x-python",
   "name": "python",
   "nbconvert_exporter": "python",
   "pygments_lexer": "ipython3",
   "version": "3.9.7"
  }
 },
 "nbformat": 4,
 "nbformat_minor": 5
}
