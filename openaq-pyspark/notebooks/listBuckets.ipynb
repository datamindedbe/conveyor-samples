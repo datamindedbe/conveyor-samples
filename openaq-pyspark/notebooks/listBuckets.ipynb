{
 "cells": [
  {
   "cell_type": "code",
   "execution_count": null,
   "id": "5f66f184-f87c-4ce3-aac9-c273fdff793a",
   "metadata": {},
   "outputs": [],
   "source": [
    "import boto3\n",
    "boto3.client(\"sts\").get_caller_identity()['Arn']"
   ]
  },
  {
   "cell_type": "code",
   "execution_count": null,
   "id": "acb3293f-49bb-412c-8daa-9414ebe01864",
   "metadata": {},
   "outputs": [],
   "source": [
    "s3 = boto3.client('s3')\n",
    "response = s3.list_buckets()\n",
    "\n",
    "# Output the bucket names\n",
    "print('Existing buckets:')\n",
    "for bucket in response['Buckets']:\n",
    "    print(f'  {bucket[\"Name\"]}')"
   ]
  },
  {
   "cell_type": "code",
   "execution_count": null,
   "id": "46383b6c-e623-42c9-b919-dc0bf0d82e92",
   "metadata": {},
   "outputs": [],
   "source": []
  }
 ],
 "metadata": {
  "kernelspec": {
   "display_name": "Python 3.9",
   "language": "python",
   "name": "python3.9"
  },
  "language_info": {
   "codemirror_mode": {
    "name": "ipython",
    "version": 3
   },
   "file_extension": ".py",
   "mimetype": "text/x-python",
   "name": "python",
   "nbconvert_exporter": "python",
   "pygments_lexer": "ipython3",
   "version": "3.9.7"
  }
 },
 "nbformat": 4,
 "nbformat_minor": 5
}
