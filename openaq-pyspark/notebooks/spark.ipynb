{
 "cells": [
  {
   "cell_type": "code",
   "execution_count": null,
   "id": "be2c65ed-a287-406b-b14f-1950c4832874",
   "metadata": {},
   "outputs": [],
   "source": [
    "from pyspark.sql import SparkSession\n",
    "session = (\n",
    "    SparkSession.builder.appName(\"pyspark sample\")\n",
    "    .enableHiveSupport()\n",
    "    .getOrCreate()\n",
    ")"
   ]
  },
  {
   "cell_type": "code",
   "execution_count": null,
   "id": "f0d5cddf-8b37-4c73-bb6a-ae0d83327f2d",
   "metadata": {},
   "outputs": [],
   "source": [
    "from openaq.sample import read_loaded_data"
   ]
  },
  {
   "cell_type": "code",
   "execution_count": null,
   "id": "7558d128-301f-4783-b037-b335832371f9",
   "metadata": {},
   "outputs": [],
   "source": [
    "df = read_loaded_data(session)"
   ]
  },
  {
   "cell_type": "code",
   "execution_count": null,
   "id": "1a1059a3-79c8-4c7f-9036-8f63e7976b6b",
   "metadata": {},
   "outputs": [],
   "source": [
    "df.head()"
   ]
  },
  {
   "cell_type": "code",
   "execution_count": null,
   "id": "7143bd03-0d53-4634-a698-a014c3673416",
   "metadata": {},
   "outputs": [],
   "source": []
  }
 ],
 "metadata": {
  "kernelspec": {
   "display_name": "Python 3.9",
   "language": "python",
   "name": "python3.9"
  },
  "language_info": {
   "codemirror_mode": {
    "name": "ipython",
    "version": 3
   },
   "file_extension": ".py",
   "mimetype": "text/x-python",
   "name": "python",
   "nbconvert_exporter": "python",
   "pygments_lexer": "ipython3",
   "version": "3.9.7"
  }
 },
 "nbformat": 4,
 "nbformat_minor": 5
}
