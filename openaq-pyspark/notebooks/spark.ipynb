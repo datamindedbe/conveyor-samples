{
 "cells": [
  {
   "cell_type": "code",
   "execution_count": 1,
   "id": "be2c65ed-a287-406b-b14f-1950c4832874",
   "metadata": {},
   "outputs": [
    {
     "name": "stderr",
     "output_type": "stream",
     "text": [
      "WARNING: An illegal reflective access operation has occurred\n",
      "WARNING: Illegal reflective access by org.apache.spark.unsafe.Platform (file:/opt/spark/jars/spark-unsafe_2.12-3.2.0.jar) to constructor java.nio.DirectByteBuffer(long,int)\n",
      "WARNING: Please consider reporting this to the maintainers of org.apache.spark.unsafe.Platform\n",
      "WARNING: Use --illegal-access=warn to enable warnings of further illegal reflective access operations\n",
      "WARNING: All illegal access operations will be denied in a future release\n",
      "Using Spark's default log4j profile: org/apache/spark/log4j-defaults.properties\n",
      "Setting default log level to \"WARN\".\n",
      "To adjust logging level use sc.setLogLevel(newLevel). For SparkR, use setLogLevel(newLevel).\n",
      "21/12/20 09:19:52 WARN NativeCodeLoader: Unable to load native-hadoop library for your platform... using builtin-java classes where applicable\n"
     ]
    }
   ],
   "source": [
    "from pyspark.sql import SparkSession\n",
    "session = (\n",
    "    SparkSession.builder.appName(\"pyspark sample\")\n",
    "    .enableHiveSupport()\n",
    "    .getOrCreate()\n",
    ")"
   ]
  },
  {
   "cell_type": "code",
   "execution_count": 2,
   "id": "f0d5cddf-8b37-4c73-bb6a-ae0d83327f2d",
   "metadata": {},
   "outputs": [],
   "source": [
    "from openaq.sample import read_loaded_data"
   ]
  },
  {
   "cell_type": "code",
   "execution_count": 4,
   "id": "7558d128-301f-4783-b037-b335832371f9",
   "metadata": {},
   "outputs": [
    {
     "name": "stderr",
     "output_type": "stream",
     "text": [
      "                                                                                \r"
     ]
    }
   ],
   "source": [
    "df = read_loaded_data(session)"
   ]
  },
  {
   "cell_type": "code",
   "execution_count": 5,
   "id": "1a1059a3-79c8-4c7f-9036-8f63e7976b6b",
   "metadata": {},
   "outputs": [
    {
     "name": "stderr",
     "output_type": "stream",
     "text": [
      "                                                                                \r"
     ]
    },
    {
     "data": {
      "text/plain": [
       "Row(attribution=[Row(name='EEA', url='http://www.eea.europa.eu/themes/air/air-quality')], averagingPeriod=Row(unit='hours', value=1.0), city='Luxembourg', coordinates=Row(latitude=49.719281, longitude=5.630398), country='BE', date=Row(local='2021-01-27T02:00:00+01:00', utc='2021-01-27T01:00:00.000Z'), location='BETN132', mobile=False, parameter='pm25', sourceName='EEA Belgium', sourceType='government', unit='µg/m³', value=6.0375, ds=datetime.date(2021, 1, 27))"
      ]
     },
     "execution_count": 5,
     "metadata": {},
     "output_type": "execute_result"
    }
   ],
   "source": [
    "df.head()"
   ]
  },
  {
   "cell_type": "code",
   "execution_count": null,
   "id": "7143bd03-0d53-4634-a698-a014c3673416",
   "metadata": {},
   "outputs": [],
   "source": []
  }
 ],
 "metadata": {
  "kernelspec": {
   "display_name": "Python 3.9",
   "language": "python",
   "name": "python3.9"
  },
  "language_info": {
   "codemirror_mode": {
    "name": "ipython",
    "version": 3
   },
   "file_extension": ".py",
   "mimetype": "text/x-python",
   "name": "python",
   "nbconvert_exporter": "python",
   "pygments_lexer": "ipython3",
   "version": "3.9.7"
  }
 },
 "nbformat": 4,
 "nbformat_minor": 5
}
